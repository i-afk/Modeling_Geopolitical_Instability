{
 "cells": [
  {
   "cell_type": "code",
   "execution_count": 1,
   "id": "14749baa-8f21-49c4-9c3c-000c009ef9a3",
   "metadata": {},
   "outputs": [],
   "source": [
    "import pandas as pd\n",
    "import sqlite3"
   ]
  },
  {
   "cell_type": "code",
   "execution_count": 2,
   "id": "f8d8f9b9-860a-4153-95af-37000e2bc8f2",
   "metadata": {},
   "outputs": [
    {
     "name": "stdout",
     "output_type": "stream",
     "text": [
      "Collecting ipython-sql\n",
      "  Downloading ipython_sql-0.5.0-py3-none-any.whl.metadata (17 kB)\n",
      "Collecting prettytable (from ipython-sql)\n",
      "  Downloading prettytable-3.10.0-py3-none-any.whl.metadata (30 kB)\n",
      "Requirement already satisfied: ipython in c:\\users\\ian\\appdata\\local\\programs\\python\\python311\\lib\\site-packages (from ipython-sql) (8.23.0)\n",
      "Collecting sqlalchemy>=2.0 (from ipython-sql)\n",
      "  Downloading SQLAlchemy-2.0.29-cp311-cp311-win_amd64.whl.metadata (9.8 kB)\n",
      "Collecting sqlparse (from ipython-sql)\n",
      "  Downloading sqlparse-0.5.0-py3-none-any.whl.metadata (3.9 kB)\n",
      "Requirement already satisfied: six in c:\\users\\ian\\appdata\\local\\programs\\python\\python311\\lib\\site-packages (from ipython-sql) (1.16.0)\n",
      "Collecting ipython-genutils (from ipython-sql)\n",
      "  Downloading ipython_genutils-0.2.0-py2.py3-none-any.whl.metadata (755 bytes)\n",
      "Requirement already satisfied: typing-extensions>=4.6.0 in c:\\users\\ian\\appdata\\local\\programs\\python\\python311\\lib\\site-packages (from sqlalchemy>=2.0->ipython-sql) (4.10.0)\n",
      "Collecting greenlet!=0.4.17 (from sqlalchemy>=2.0->ipython-sql)\n",
      "  Downloading greenlet-3.0.3-cp311-cp311-win_amd64.whl.metadata (3.9 kB)\n",
      "Requirement already satisfied: decorator in c:\\users\\ian\\appdata\\local\\programs\\python\\python311\\lib\\site-packages (from ipython->ipython-sql) (5.1.1)\n",
      "Requirement already satisfied: jedi>=0.16 in c:\\users\\ian\\appdata\\local\\programs\\python\\python311\\lib\\site-packages (from ipython->ipython-sql) (0.19.1)\n",
      "Requirement already satisfied: matplotlib-inline in c:\\users\\ian\\appdata\\local\\programs\\python\\python311\\lib\\site-packages (from ipython->ipython-sql) (0.1.6)\n",
      "Requirement already satisfied: prompt-toolkit<3.1.0,>=3.0.41 in c:\\users\\ian\\appdata\\local\\programs\\python\\python311\\lib\\site-packages (from ipython->ipython-sql) (3.0.43)\n",
      "Requirement already satisfied: pygments>=2.4.0 in c:\\users\\ian\\appdata\\local\\programs\\python\\python311\\lib\\site-packages (from ipython->ipython-sql) (2.17.2)\n",
      "Requirement already satisfied: stack-data in c:\\users\\ian\\appdata\\local\\programs\\python\\python311\\lib\\site-packages (from ipython->ipython-sql) (0.6.3)\n",
      "Requirement already satisfied: traitlets>=5.13.0 in c:\\users\\ian\\appdata\\local\\programs\\python\\python311\\lib\\site-packages (from ipython->ipython-sql) (5.14.2)\n",
      "Requirement already satisfied: colorama in c:\\users\\ian\\appdata\\local\\programs\\python\\python311\\lib\\site-packages (from ipython->ipython-sql) (0.4.6)\n",
      "Requirement already satisfied: wcwidth in c:\\users\\ian\\appdata\\local\\programs\\python\\python311\\lib\\site-packages (from prettytable->ipython-sql) (0.2.13)\n",
      "Requirement already satisfied: parso<0.9.0,>=0.8.3 in c:\\users\\ian\\appdata\\local\\programs\\python\\python311\\lib\\site-packages (from jedi>=0.16->ipython->ipython-sql) (0.8.3)\n",
      "Requirement already satisfied: executing>=1.2.0 in c:\\users\\ian\\appdata\\local\\programs\\python\\python311\\lib\\site-packages (from stack-data->ipython->ipython-sql) (2.0.1)\n",
      "Requirement already satisfied: asttokens>=2.1.0 in c:\\users\\ian\\appdata\\local\\programs\\python\\python311\\lib\\site-packages (from stack-data->ipython->ipython-sql) (2.4.1)\n",
      "Requirement already satisfied: pure-eval in c:\\users\\ian\\appdata\\local\\programs\\python\\python311\\lib\\site-packages (from stack-data->ipython->ipython-sql) (0.2.2)\n",
      "Downloading ipython_sql-0.5.0-py3-none-any.whl (20 kB)\n",
      "Downloading SQLAlchemy-2.0.29-cp311-cp311-win_amd64.whl (2.1 MB)\n",
      "   ---------------------------------------- 0.0/2.1 MB ? eta -:--:--\n",
      "    --------------------------------------- 0.0/2.1 MB 1.9 MB/s eta 0:00:02\n",
      "   -- ------------------------------------- 0.1/2.1 MB 1.8 MB/s eta 0:00:02\n",
      "   --- ------------------------------------ 0.2/2.1 MB 1.6 MB/s eta 0:00:02\n",
      "   ---- ----------------------------------- 0.3/2.1 MB 1.7 MB/s eta 0:00:02\n",
      "   ------ --------------------------------- 0.3/2.1 MB 1.4 MB/s eta 0:00:02\n",
      "   ------- -------------------------------- 0.4/2.1 MB 1.4 MB/s eta 0:00:02\n",
      "   --------- ------------------------------ 0.5/2.1 MB 1.5 MB/s eta 0:00:02\n",
      "   --------- ------------------------------ 0.5/2.1 MB 1.4 MB/s eta 0:00:02\n",
      "   ----------- ---------------------------- 0.6/2.1 MB 1.4 MB/s eta 0:00:02\n",
      "   ------------ --------------------------- 0.6/2.1 MB 1.4 MB/s eta 0:00:02\n",
      "   ------------- -------------------------- 0.7/2.1 MB 1.4 MB/s eta 0:00:01\n",
      "   -------------- ------------------------- 0.8/2.1 MB 1.4 MB/s eta 0:00:01\n",
      "   ---------------- ----------------------- 0.9/2.1 MB 1.4 MB/s eta 0:00:01\n",
      "   ----------------- ---------------------- 0.9/2.1 MB 1.4 MB/s eta 0:00:01\n",
      "   ------------------ --------------------- 1.0/2.1 MB 1.4 MB/s eta 0:00:01\n",
      "   ------------------- -------------------- 1.0/2.1 MB 1.4 MB/s eta 0:00:01\n",
      "   -------------------- ------------------- 1.1/2.1 MB 1.4 MB/s eta 0:00:01\n",
      "   ---------------------- ----------------- 1.2/2.1 MB 1.4 MB/s eta 0:00:01\n",
      "   ----------------------- ---------------- 1.2/2.1 MB 1.4 MB/s eta 0:00:01\n",
      "   ------------------------- -------------- 1.3/2.1 MB 1.4 MB/s eta 0:00:01\n",
      "   -------------------------- ------------- 1.4/2.1 MB 1.4 MB/s eta 0:00:01\n",
      "   ---------------------------- ----------- 1.5/2.1 MB 1.4 MB/s eta 0:00:01\n",
      "   ----------------------------- ---------- 1.5/2.1 MB 1.4 MB/s eta 0:00:01\n",
      "   ------------------------------ --------- 1.6/2.1 MB 1.5 MB/s eta 0:00:01\n",
      "   -------------------------------- ------- 1.7/2.1 MB 1.4 MB/s eta 0:00:01\n",
      "   --------------------------------- ------ 1.8/2.1 MB 1.4 MB/s eta 0:00:01\n",
      "   ----------------------------------- ---- 1.9/2.1 MB 1.5 MB/s eta 0:00:01\n",
      "   ------------------------------------- -- 1.9/2.1 MB 1.5 MB/s eta 0:00:01\n",
      "   ------------------------------------- -- 2.0/2.1 MB 1.5 MB/s eta 0:00:01\n",
      "   ------------------------------------- -- 2.0/2.1 MB 1.5 MB/s eta 0:00:01\n",
      "   ------------------------------------- -- 2.0/2.1 MB 1.5 MB/s eta 0:00:01\n",
      "   ------------------------------------- -- 2.0/2.1 MB 1.5 MB/s eta 0:00:01\n",
      "   ------------------------------------- -- 2.0/2.1 MB 1.5 MB/s eta 0:00:01\n",
      "   ------------------------------------- -- 2.0/2.1 MB 1.5 MB/s eta 0:00:01\n",
      "   ------------------------------------- -- 2.0/2.1 MB 1.5 MB/s eta 0:00:01\n",
      "   ------------------------------------- -- 2.0/2.1 MB 1.5 MB/s eta 0:00:01\n",
      "   ------------------------------------- -- 2.0/2.1 MB 1.5 MB/s eta 0:00:01\n",
      "   ------------------------------------- -- 2.0/2.1 MB 1.5 MB/s eta 0:00:01\n",
      "   ---------------------------------------  2.1/2.1 MB 1.2 MB/s eta 0:00:01\n",
      "   ---------------------------------------- 2.1/2.1 MB 1.1 MB/s eta 0:00:00\n",
      "Downloading ipython_genutils-0.2.0-py2.py3-none-any.whl (26 kB)\n",
      "Downloading prettytable-3.10.0-py3-none-any.whl (28 kB)\n",
      "Downloading sqlparse-0.5.0-py3-none-any.whl (43 kB)\n",
      "   ---------------------------------------- 0.0/44.0 kB ? eta -:--:--\n",
      "   ---------------------------------------- 44.0/44.0 kB 1.1 MB/s eta 0:00:00\n",
      "Downloading greenlet-3.0.3-cp311-cp311-win_amd64.whl (292 kB)\n",
      "   ---------------------------------------- 0.0/292.8 kB ? eta -:--:--\n",
      "   ------------ --------------------------- 92.2/292.8 kB 2.6 MB/s eta 0:00:01\n",
      "   ------------------- -------------------- 143.4/292.8 kB 1.7 MB/s eta 0:00:01\n",
      "   --------------------------------- ------ 245.8/292.8 kB 1.9 MB/s eta 0:00:01\n",
      "   ---------------------------------------  286.7/292.8 kB 1.5 MB/s eta 0:00:01\n",
      "   ---------------------------------------- 292.8/292.8 kB 1.3 MB/s eta 0:00:00\n",
      "Installing collected packages: ipython-genutils, sqlparse, prettytable, greenlet, sqlalchemy, ipython-sql\n",
      "Successfully installed greenlet-3.0.3 ipython-genutils-0.2.0 ipython-sql-0.5.0 prettytable-3.10.0 sqlalchemy-2.0.29 sqlparse-0.5.0\n"
     ]
    }
   ],
   "source": [
    "!pip install ipython-sql"
   ]
  },
  {
   "cell_type": "code",
   "execution_count": null,
   "id": "184c6476-a85c-4ec3-8c16-5c9aae7d613e",
   "metadata": {},
   "outputs": [],
   "source": []
  }
 ],
 "metadata": {
  "kernelspec": {
   "display_name": "Python 3 (ipykernel)",
   "language": "python",
   "name": "python3"
  },
  "language_info": {
   "codemirror_mode": {
    "name": "ipython",
    "version": 3
   },
   "file_extension": ".py",
   "mimetype": "text/x-python",
   "name": "python",
   "nbconvert_exporter": "python",
   "pygments_lexer": "ipython3",
   "version": "3.11.8"
  }
 },
 "nbformat": 4,
 "nbformat_minor": 5
}

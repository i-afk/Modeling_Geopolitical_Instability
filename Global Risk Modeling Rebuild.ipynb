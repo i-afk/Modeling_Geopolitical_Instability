{
 "cells": [
  {
   "cell_type": "markdown",
   "id": "95a7bbf7",
   "metadata": {},
   "source": [
    "# Global Risk Modeling (v2. under construction)"
   ]
  },
  {
   "cell_type": "markdown",
   "id": "3d05aceb",
   "metadata": {},
   "source": [
    "Goal: Rebuild original geopolitical instability model from the ground using a wider variety of data.\n",
    "\n",
    "Improvements:\n",
    "1) Extract Data from text and clean\n",
    "2) Use mySQL to store cleared data\n",
    "4) Implement feature engineering to model interaction of variables\n",
    "5) Leverage Pytorch to better predict instability\n",
    "6) Improve mapping using GeoPandas\n",
    "\n",
    "Notes: \n",
    "1) I would like to retain gini coefficient (high priority)\n",
    "\n"
   ]
  },
  {
   "cell_type": "markdown",
   "id": "530e5edc",
   "metadata": {},
   "source": [
    "In future I would like to retain gini coefficient "
   ]
  },
  {
   "cell_type": "code",
   "execution_count": null,
   "id": "18695d95-fb5c-4331-906a-444c0b60a736",
   "metadata": {},
   "outputs": [],
   "source": [
    "# "
   ]
  },
  {
   "cell_type": "code",
   "execution_count": null,
   "id": "66a6b947-bc33-4b55-be0a-cff3a5910ede",
   "metadata": {},
   "outputs": [],
   "source": [
    "# "
   ]
  },
  {
   "cell_type": "code",
   "execution_count": null,
   "id": "7f01be7f-7c23-48cb-a275-da10dcee3713",
   "metadata": {},
   "outputs": [],
   "source": []
  },
  {
   "cell_type": "code",
   "execution_count": null,
   "id": "7b696b95",
   "metadata": {},
   "outputs": [],
   "source": []
  },
  {
   "cell_type": "code",
   "execution_count": 132,
   "id": "15b103c2",
   "metadata": {},
   "outputs": [
    {
     "name": "stderr",
     "output_type": "stream",
     "text": [
      "C:\\Users\\Ian\\AppData\\Local\\Temp/ipykernel_23248/1808068478.py:14: SettingWithCopyWarning: \n",
      "A value is trying to be set on a copy of a slice from a DataFrame.\n",
      "Try using .loc[row_indexer,col_indexer] = value instead\n",
      "\n",
      "See the caveats in the documentation: https://pandas.pydata.org/pandas-docs/stable/user_guide/indexing.html#returning-a-view-versus-a-copy\n",
      "  df_2[\"Instability\"] = result\n"
     ]
    }
   ],
   "source": [
    "# Quintile (preforming better..)\n",
    "result = []\n",
    "for i in df_2[\"Instability_Num\"]:\n",
    "    if i >100:\n",
    "        result.append(5)\n",
    "    elif i>75:\n",
    "         result.append(4)\n",
    "    elif i>50:\n",
    "         result.append(3)\n",
    "    elif i>25:\n",
    "         result.append(2)\n",
    "    elif i>0:\n",
    "         result.append(1)\n",
    "df_2[\"Instability\"] = result \n",
    "\n",
    "\n",
    "   "
   ]
  },
  {
   "cell_type": "code",
   "execution_count": 1772,
   "id": "04222216",
   "metadata": {},
   "outputs": [
    {
     "name": "stderr",
     "output_type": "stream",
     "text": [
      "C:\\Users\\Ian\\AppData\\Local\\Temp/ipykernel_32664/3031239925.py:12: SettingWithCopyWarning: \n",
      "A value is trying to be set on a copy of a slice from a DataFrame.\n",
      "Try using .loc[row_indexer,col_indexer] = value instead\n",
      "\n",
      "See the caveats in the documentation: https://pandas.pydata.org/pandas-docs/stable/user_guide/indexing.html#returning-a-view-versus-a-copy\n",
      "  df_2[\"Instability\"] = result\n"
     ]
    }
   ],
   "source": [
    "# Trying 3 categories \n",
    "# slightly higher accuracy\n",
    "#result = []\n",
    "#for i in df_2[\"Instability_Num\"]:\n",
    "#    if i >80:\n",
    "#        result.append(3)\n",
    "#    elif i>40:\n",
    "#         result.append(2)\n",
    "#    elif i>0:\n",
    "#        result.append(1)\n",
    "\n",
    "#df_2[\"Instability\"] = result \n",
    " "
   ]
  }
 ],
 "metadata": {
  "kernelspec": {
   "display_name": "Python 3 (ipykernel)",
   "language": "python",
   "name": "python3"
  },
  "language_info": {
   "codemirror_mode": {
    "name": "ipython",
    "version": 3
   },
   "file_extension": ".py",
   "mimetype": "text/x-python",
   "name": "python",
   "nbconvert_exporter": "python",
   "pygments_lexer": "ipython3",
   "version": "3.11.8"
  }
 },
 "nbformat": 4,
 "nbformat_minor": 5
}
